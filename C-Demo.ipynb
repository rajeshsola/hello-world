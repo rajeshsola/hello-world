{
 "cells": [
  {
   "cell_type": "code",
   "execution_count": 4,
   "metadata": {},
   "outputs": [
    {
     "name": "stdout",
     "output_type": "stream",
     "text": [
      "Hello World\n"
     ]
    }
   ],
   "source": [
    "#include<stdio.h>\n",
    "int main() {\n",
    "    printf(\"Hello World\\n\");\n",
    "}"
   ]
  },
  {
   "cell_type": "code",
   "execution_count": 8,
   "metadata": {},
   "outputs": [
    {
     "name": "stderr",
     "output_type": "stream",
     "text": [
      "/tmp/tmp0ff_vz5g.c: In function ‘main’:\n",
      "/tmp/tmp0ff_vz5g.c:10:12: warning: initialization from incompatible pointer type [-Wincompatible-pointer-types]\n",
      "   char *pc=&val;\n",
      "            ^\n",
      "/tmp/tmp0ff_vz5g.c:12:17: warning: format ‘%d’ expects argument of type ‘int’, but argument 2 has type ‘long unsigned int’ [-Wformat=]\n",
      "   printf(\"size=%d\\n\",sizeof(struct A));\n",
      "                ~^\n",
      "                %ld\n"
     ]
    },
    {
     "name": "stdout",
     "output_type": "stream",
     "text": [
      "44size=12\n"
     ]
    }
   ],
   "source": [
    "#include<string.h>\n",
    "#include<stdio.h>\n",
    "struct A {\n",
    "  int x;\n",
    "  int y;\n",
    "  int z;\n",
    "};\n",
    "int main() {\n",
    "  int val=0x41424344;\n",
    "  char *pc=&val;\n",
    "  printf(\"%x\",*pc);\n",
    "  printf(\"size=%d\\n\",sizeof(struct A));\n",
    "}"
   ]
  }
 ],
 "metadata": {
  "kernelspec": {
   "display_name": "C",
   "language": "c",
   "name": "c"
  },
  "language_info": {
   "file_extension": ".c",
   "mimetype": "text/plain",
   "name": "c"
  }
 },
 "nbformat": 4,
 "nbformat_minor": 2
}
